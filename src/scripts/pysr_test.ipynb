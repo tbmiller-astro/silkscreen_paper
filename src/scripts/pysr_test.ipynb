{
 "cells": [
  {
   "cell_type": "code",
   "execution_count": null,
   "metadata": {},
   "outputs": [],
   "source": [
    "def calc_obs_props(theta):\n",
    "    props = []\n",
    "    ap_sp = simmer.build_sp(theta)\n",
    "    [props.append(ap_sp.total_mag(band)) for band in ['DECam_g','DECam_r', 'DECam_z'] ]\n",
    "    [props.append(ap_sp.sbf_mag(band)) for band in ['DECam_g','DECam_r', 'DECam_z'] ]\n",
    "    return [np.array(props),]\n",
    "\n",
    "with mpire.WorkerPool(n_jobs=8) as pool:\n",
    "    obs_props_val = pool.map(calc_obs_props,[t for t in t_val.numpy()], progress_bar=True)\n",
    "\n",
    "obs_props_val= np.array(obs_props_val).squeeze()\n",
    "summ_stats = post.posterior_estimator._embedding_net(x_val)\n",
    "summ_stats = summ_stats.detach().numpy()\n",
    "\n",
    "mod_list = []\n",
    "for j in range(summ_stats.shape[1]):\n",
    "    model = pysr.PySRRegressor(\n",
    "        binary_operators=[\"+\", \"-\", \"*\", \"/\"], \n",
    "        unary_operators=[\"exp\", \"sqrt\",\"square\"], \n",
    "        variable_names = ['m_g','m_r','m_z','sbf_g','sbf_r','sbf_z']\n",
    "    )\n",
    "    model.fit(obs_props_val, summ_stats[:,j])\n",
    "    mod_list.append(model)\n",
    "\n",
    "for model in mod_list:\n",
    "    print (model.get_best()['sympy_format'] )\n",
    "\n",
    "fig, axes = plt.subplots(2,5, figsize = (20,7))\n",
    "for i in range(summ_stats.shape[1]):\n",
    "    summ_cur = summ_stats[:,i]\n",
    "    pred_cur = mod_list[i].predict(obs_props_val)\n",
    "    max_cur = np.max([np.max(summ_cur),np.max(pred_cur)])\n",
    "    min_cur = np.min([np.min(summ_cur),np.min(pred_cur)])\n",
    "    ax_cur = axes.flatten()[i]\n",
    "    ax_cur.plot([min_cur,max_cur],[min_cur,max_cur], 'k--')\n",
    "    ax_cur.plot(summ_cur, pred_cur, 'o' )\n",
    "    ax_cur.set_xlim(min_cur,max_cur)\n",
    "    ax_cur.set_ylim(min_cur,max_cur)\n",
    "    ax_cur.set_title(rf'${mod_list[i].latex()}$')\n",
    "plt.show()"
   ]
  }
 ],
 "metadata": {
  "language_info": {
   "name": "python"
  }
 },
 "nbformat": 4,
 "nbformat_minor": 2
}
